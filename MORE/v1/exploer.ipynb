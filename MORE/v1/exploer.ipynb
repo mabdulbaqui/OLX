{
 "cells": [
  {
   "cell_type": "code",
   "execution_count": 10,
   "metadata": {},
   "outputs": [],
   "source": [
    "from  selenium import webdriver \n",
    "from bs4 import BeautifulSoup as bs\n",
    "import re \n",
    "import string\n",
    "from time import  sleep\n",
    "from selenium.common.exceptions import TimeoutException\n",
    "import pickle\n",
    "from collections import deque\n",
    "from selenium.webdriver.common.by import By\n",
    "import pandas as pd\n",
    "import numpy as np\n",
    "from selenium.webdriver.common.by import By\n",
    "from selenium.webdriver.support.ui import WebDriverWait\n",
    "from selenium.webdriver.support import expected_conditions as EC"
   ]
  },
  {
   "cell_type": "code",
   "execution_count": 14,
   "metadata": {},
   "outputs": [
    {
     "data": {
      "text/plain": [
       "4384"
      ]
     },
     "execution_count": 14,
     "metadata": {},
     "output_type": "execute_result"
    }
   ],
   "source": [
    "with open(\"state.pkl\",'rb') as file:\n",
    "        state,stack2,link2=pickle.load(file)\n",
    "df_state=pd.DataFrame(state)\n",
    "len(state)"
   ]
  },
  {
   "cell_type": "code",
   "execution_count": 15,
   "metadata": {},
   "outputs": [
    {
     "data": {
      "text/plain": [
       "4777"
      ]
     },
     "execution_count": 15,
     "metadata": {},
     "output_type": "execute_result"
    }
   ],
   "source": [
    "with open(\"state2.pkl\",'rb') as file:\n",
    "        state2,stack2,link2=pickle.load(file)\n",
    "df_state2=pd.DataFrame(state2)\n",
    "len(state2)"
   ]
  },
  {
   "cell_type": "code",
   "execution_count": 16,
   "metadata": {},
   "outputs": [
    {
     "data": {
      "text/plain": [
       "10680"
      ]
     },
     "execution_count": 16,
     "metadata": {},
     "output_type": "execute_result"
    }
   ],
   "source": [
    "with open(\"state3.pkl\",'rb') as file:\n",
    "        state3,stack2,link2=pickle.load(file)\n",
    "df_state3=pd.DataFrame(state3)\n",
    "len(state3)"
   ]
  },
  {
   "cell_type": "code",
   "execution_count": 17,
   "metadata": {},
   "outputs": [
    {
     "data": {
      "text/plain": [
       "1643"
      ]
     },
     "execution_count": 17,
     "metadata": {},
     "output_type": "execute_result"
    }
   ],
   "source": [
    "with open(\"state4.pkl\",'rb') as file:\n",
    "        state4,stack2,link2=pickle.load(file)\n",
    "df_state4=pd.DataFrame(state4)\n",
    "len(state4)"
   ]
  },
  {
   "cell_type": "markdown",
   "metadata": {},
   "source": []
  }
 ],
 "metadata": {
  "interpreter": {
   "hash": "03e8f262078a75390209aa4e3138df5c164683a28d07b004390ca94c5b26ddab"
  },
  "kernelspec": {
   "display_name": "Python 3 (ipykernel)",
   "language": "python",
   "name": "python3"
  },
  "language_info": {
   "codemirror_mode": {
    "name": "ipython",
    "version": 3
   },
   "file_extension": ".py",
   "mimetype": "text/x-python",
   "name": "python",
   "nbconvert_exporter": "python",
   "pygments_lexer": "ipython3",
   "version": "3.10.1"
  }
 },
 "nbformat": 4,
 "nbformat_minor": 2
}
