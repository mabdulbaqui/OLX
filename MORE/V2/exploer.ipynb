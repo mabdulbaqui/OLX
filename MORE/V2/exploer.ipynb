{
 "cells": [
  {
   "cell_type": "code",
   "execution_count": 14,
   "metadata": {},
   "outputs": [],
   "source": [
    "from  selenium import webdriver \n",
    "from bs4 import BeautifulSoup as bs\n",
    "import re \n",
    "import string\n",
    "from time import  sleep\n",
    "from selenium.common.exceptions import TimeoutException\n",
    "import pickle\n",
    "from collections import deque\n",
    "from selenium.webdriver.common.by import By\n",
    "import pandas as pd\n",
    "import numpy as np\n",
    "from selenium.webdriver.common.by import By\n",
    "from selenium.webdriver.support.ui import WebDriverWait\n",
    "from selenium.webdriver.support import expected_conditions as EC"
   ]
  },
  {
   "cell_type": "code",
   "execution_count": 15,
   "metadata": {},
   "outputs": [],
   "source": [
    "with open(\"./vilas_state.pkl\",'rb') as file:\n",
    "        vilas,stack2,link2=pickle.load(file)\n",
    "df_vilas=pd.DataFrame(vilas)"
   ]
  },
  {
   "cell_type": "code",
   "execution_count": 16,
   "metadata": {},
   "outputs": [],
   "source": [
    "with open(\"./vlias-for-rent.pkl\",'rb') as file:\n",
    "        vilas_rent,stack2,link2=pickle.load(file)\n",
    "df_vilas_rent=pd.DataFrame(vilas_rent)"
   ]
  },
  {
   "cell_type": "code",
   "execution_count": 17,
   "metadata": {},
   "outputs": [],
   "source": [
    "with open(\"./apartmant.pkl\",'rb') as file:\n",
    "        apartmant,stack2,link2=pickle.load(file)\n",
    "df_apartmant=pd.DataFrame(apartmant)"
   ]
  },
  {
   "cell_type": "code",
   "execution_count": 18,
   "metadata": {},
   "outputs": [],
   "source": [
    "with open(\"./apertment-rent.pkl\",'rb') as file:\n",
    "        apertment_rent,stack2,link2=pickle.load(file)\n",
    "df_apertment_rent=pd.DataFrame(apertment_rent)"
   ]
  },
  {
   "cell_type": "code",
   "execution_count": 19,
   "metadata": {},
   "outputs": [],
   "source": [
    "with open(\"state21.pkl\",'rb') as file:\n",
    "        state21,stack2,link2=pickle.load(file)\n",
    "df_state21=pd.DataFrame(state21)"
   ]
  },
  {
   "cell_type": "markdown",
   "metadata": {},
   "source": []
  }
 ],
 "metadata": {
  "interpreter": {
   "hash": "03e8f262078a75390209aa4e3138df5c164683a28d07b004390ca94c5b26ddab"
  },
  "kernelspec": {
   "display_name": "Python 3 (ipykernel)",
   "language": "python",
   "name": "python3"
  },
  "language_info": {
   "codemirror_mode": {
    "name": "ipython",
    "version": 3
   },
   "file_extension": ".py",
   "mimetype": "text/x-python",
   "name": "python",
   "nbconvert_exporter": "python",
   "pygments_lexer": "ipython3",
   "version": "3.10.1"
  }
 },
 "nbformat": 4,
 "nbformat_minor": 2
}
