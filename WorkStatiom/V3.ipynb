{
 "cells": [
  {
   "cell_type": "code",
   "execution_count": 2,
   "metadata": {},
   "outputs": [],
   "source": [
    "from  selenium import webdriver \n",
    "from bs4 import BeautifulSoup as bs\n",
    "import re \n",
    "from translate import Translator\n",
    "import string\n",
    "import re\n",
    "from time import  sleep\n",
    "from selenium.common.exceptions import TimeoutException\n",
    "import pickle\n",
    "from collections import deque\n",
    "from selenium.webdriver.common.by import By\n",
    "import pandas as pd\n",
    "import sys\n",
    "sys.setrecursionlimit(10**6)\n",
    "import datetime"
   ]
  },
  {
   "cell_type": "code",
   "execution_count": 3,
   "metadata": {},
   "outputs": [],
   "source": [
    "def driver():\n",
    "    chrome_options = webdriver.ChromeOptions()\n",
    "    prefs = {\"profile.managed_default_content_settings.images\": 2}\n",
    "    chrome_options.add_experimental_option(\"prefs\", prefs)\n",
    "    driver = webdriver.Chrome('D:\\coding-area\\olx_scrapping\\chromedriver.exe',chrome_options=chrome_options)\n",
    "    return driver"
   ]
  },
  {
   "cell_type": "code",
   "execution_count": 4,
   "metadata": {},
   "outputs": [],
   "source": [
    "def getfunc(link):\n",
    "    while True:\n",
    "        try:\n",
    "            driver.get(link)\n",
    "            x=driver.page_source\n",
    "            return x\n",
    "        except:\n",
    "            print(\"time_out\")\n",
    "            sleep(60)"
   ]
  },
  {
   "cell_type": "code",
   "execution_count": 5,
   "metadata": {},
   "outputs": [],
   "source": [
    "def ads_list(page_Source):\n",
    "    try:\n",
    "        funcSoup=bs(page_Source,'html5lib')\n",
    "        xc=funcSoup.find_all('article',class_=\"_7e3920c1\")\n",
    "        list_of_ads=['https://www.olx.com.eg/'+i.find('a')['href'] for i in xc]\n",
    "        return list_of_ads\n",
    "    except  Exception as e:\n",
    "        print( str(e),\"ad_list\")"
   ]
  },
  {
   "cell_type": "code",
   "execution_count": 6,
   "metadata": {},
   "outputs": [],
   "source": [
    "def next_page(page_source):\n",
    "    try:\n",
    "        Soup=bs(page_source,'html5lib')\n",
    "        x=Soup.find_all('a',class_=\"d73e7494\")[-1]\n",
    "        if  x.find('div')['title']=='Next':\n",
    "            return \"https://www.olx.com.eg\"+x['href']\n",
    "        else:\n",
    "            print('the end')\n",
    "    except Exception as e :\n",
    "        print(str(e)+' next')"
   ]
  },
  {
   "cell_type": "code",
   "execution_count": 7,
   "metadata": {},
   "outputs": [],
   "source": [
    "def extract_data(page_source,i):\n",
    "    res={}\n",
    "    amenities={'Balcony': 0,\n",
    " 'Built in Kitchen Appliances': 0,\n",
    " 'Private Garden': 0,\n",
    " 'Central A/C & heating': 0,\n",
    " 'Security': 0,\n",
    " 'Covered Parking': 0,\n",
    " 'Maids Room': 0,\n",
    " 'Pets Allowed': 0,\n",
    " 'Pool': 0,\n",
    " 'Electricity Meter': 0,\n",
    " 'Water Meter': 0,\n",
    " 'Natural Gas': 0,\n",
    " 'Landline': 0,\n",
    " 'Elevator': 0}\n",
    "    \n",
    "    AddSoup=bs(page_source,'html5lib')\n",
    "    try:\n",
    "        location=AddSoup.find(class_=\"_8918c0a8\")\n",
    "        res.update({'location':location.text})        \n",
    "    except:\n",
    "        res.update({'location':location})\n",
    "    try:    \n",
    "        title=AddSoup.find(class_=\"a38b8112\")\n",
    "        res.update({'title':title.text})\n",
    "    except:\n",
    "        res.update({'title':title})\n",
    "    try:\n",
    "        x=AddSoup.find(attrs={'aria-label':\"Creation date\"}).text\n",
    "        current = datetime.datetime.now()\n",
    "        if 'hours' in x or 'hour' in x:\n",
    "            day_diff=datetime.datetime.now()\n",
    "        if 'day'  in x or 'days'  in x:\n",
    "            day_diff=current-datetime.timedelta(days=int(x[0]))\n",
    "        if 'week'in x or 'weeks' in x:\n",
    "            day_diff=current-datetime.timedelta(weeks=int(x[0]))\n",
    "        if 'month'in x or 'months' in x:\n",
    "            day_diff=current-datetime.timedelta(months=int(x[0]))\n",
    "        res.update({'date':day_diff})\n",
    "    except Exception as e :\n",
    "        print('date error:',str(e))\n",
    "        res.update({'date':x})\n",
    "    try: \n",
    "        all=AddSoup.findAll(class_='_59317dec')\n",
    "    except:\n",
    "        res.update({'page_source':page_source})\n",
    "    try:\n",
    "        details={i.findAll('span')[0].text:i.findAll('span')[1].text for i in all[0].find_all(class_=\"b44ca0b3\")}\n",
    "        res.update(details)\n",
    "    except:\n",
    "        res.update({'details':all[0]})\n",
    "    if len(all)==2:\n",
    "        try:\n",
    "            Description=all[1].find('div' ,class_=\"_0f86855a\")\n",
    "            res.update({'Description':Description.text})\n",
    "        except:\n",
    "            res.update({'Description':all[1]})\n",
    "            \n",
    "    elif  len(all)==3:\n",
    "        try:\n",
    "            # src=all[1].find('div' ,class_=\"_0f86855a\")\n",
    "            amenities_found={i.text.strip():1 for i in all[2].find('div').find_all('span')}\n",
    "            amenities.update(amenities_found)\n",
    "            res.update(amenities)\n",
    "        except:\n",
    "            print(all[2])\n",
    "            res.update(all[2])\n",
    "        try:\n",
    "            Description=all[1].find('div' ,class_=\"_0f86855a\").text\n",
    "            res.update({'Description':Description.text})\n",
    "        except:\n",
    "            res.update({'Description':all[1]})\n",
    "        res.update({'link':i})\n",
    "        return res\n",
    "def dollar_extractor():\n",
    "    page_source=getfunc('https://www.cbe.org.eg/en/EconomicResearch/Statistics/Pages/ExchangeRatesListing.aspx')\n",
    "    soup=bs(page_source,'html5lib')\n",
    "    return soup.find(class_=\"odd\").find_all('td')[1:]\n",
    "    "
   ]
  },
  {
   "cell_type": "code",
   "execution_count": 8,
   "metadata": {},
   "outputs": [
    {
     "name": "stderr",
     "output_type": "stream",
     "text": [
      "C:\\Users\\Moham\\AppData\\Local\\Temp\\ipykernel_6092\\2347946052.py:4: DeprecationWarning: executable_path has been deprecated, please pass in a Service object\n",
      "  driver = webdriver.Chrome('chromedriver.exe',chrome_options=chrome_options)\n",
      "C:\\Users\\Moham\\AppData\\Local\\Temp\\ipykernel_6092\\2347946052.py:4: DeprecationWarning: use options instead of chrome_options\n",
      "  driver = webdriver.Chrome('chromedriver.exe',chrome_options=chrome_options)\n"
     ]
    }
   ],
   "source": [
    "chrome_options = webdriver.ChromeOptions()\n",
    "prefs = {\"profile.managed_default_content_settings.images\": 2}\n",
    "chrome_options.add_experimental_option(\"prefs\", prefs)\n",
    "driver = webdriver.Chrome('chromedriver.exe',chrome_options=chrome_options)\n",
    "link=\"https://www.olx.com.eg/en/ad/%D8%B4%D9%82%D9%87-%D8%A3%D9%84%D8%AA%D8%B1%D8%A7-%D8%B3%D9%88%D8%A8%D8%B1-%D9%84%D9%88%D9%83%D8%B3-%D9%84%D9%84%D8%A8%D9%8A%D8%B9-ID177682597.html\"\n",
    "\n",
    "zx=extract_data(getfunc(link),link)"
   ]
  },
  {
   "cell_type": "code",
   "execution_count": 9,
   "metadata": {},
   "outputs": [
    {
     "data": {
      "text/plain": [
       "{'location': 'Kafr al-Sheikh City',\n",
       " 'title': 'شقه ألترا سوبر لوكس للبيع',\n",
       " 'date': datetime.datetime(2022, 4, 24, 15, 26, 26, 21441),\n",
       " 'Type': 'Apartment',\n",
       " 'Price': '1,600,000',\n",
       " 'Price Type': 'Negotiable',\n",
       " 'Bedrooms': '3',\n",
       " 'Bathrooms': '2',\n",
       " 'Area (m²)': '180',\n",
       " 'Level': '7',\n",
       " 'Furnished': 'No',\n",
       " 'Payment Option': 'Cash',\n",
       " 'Balcony': 1,\n",
       " 'Built in Kitchen Appliances': 0,\n",
       " 'Private Garden': 0,\n",
       " 'Central A/C & heating': 0,\n",
       " 'Security': 1,\n",
       " 'Covered Parking': 0,\n",
       " 'Maids Room': 0,\n",
       " 'Pets Allowed': 0,\n",
       " 'Pool': 0,\n",
       " 'Electricity Meter': 1,\n",
       " 'Water Meter': 1,\n",
       " 'Natural Gas': 1,\n",
       " 'Landline': 1,\n",
       " 'Elevator': 1,\n",
       " 'Description': <div class=\"_59317dec\"><span class=\"_7978e49c _2e82a662\">Description</span><div class=\"_0f86855a\"><span>شقه تشطيب ألترا سوبر لوكس برج الشرق للتأمين الدور السابع الشقه ناصيه ٣غرف مساحه  ٥×٦ +٢حمام +مطبخ مساحه ٥×٥٠٥ الشقه نموذج مميز</span></div></div>,\n",
       " 'link': 'https://www.olx.com.eg/en/ad/%D8%B4%D9%82%D9%87-%D8%A3%D9%84%D8%AA%D8%B1%D8%A7-%D8%B3%D9%88%D8%A8%D8%B1-%D9%84%D9%88%D9%83%D8%B3-%D9%84%D9%84%D8%A8%D9%8A%D8%B9-ID177682597.html'}"
      ]
     },
     "execution_count": 9,
     "metadata": {},
     "output_type": "execute_result"
    }
   ],
   "source": [
    "zx"
   ]
  },
  {
   "cell_type": "code",
   "execution_count": 11,
   "metadata": {},
   "outputs": [
    {
     "data": {
      "text/plain": [
       "datetime.datetime(2022, 4, 19, 11, 17, 8, 340035)"
      ]
     },
     "execution_count": 11,
     "metadata": {},
     "output_type": "execute_result"
    }
   ],
   "source": [
    "import datetime\n",
    "from dateutil.relativedelta import relativedelta\n",
    "current = datetime.datetime.now()\n",
    "\n",
    "x=current-datetime.timedelta(days=1)"
   ]
  },
  {
   "cell_type": "code",
   "execution_count": 19,
   "metadata": {},
   "outputs": [
    {
     "name": "stderr",
     "output_type": "stream",
     "text": [
      "C:\\Users\\Moham\\AppData\\Local\\Temp\\ipykernel_26876\\821770463.py:4: DeprecationWarning: executable_path has been deprecated, please pass in a Service object\n",
      "  driver = webdriver.Chrome('D:\\coding-area\\olx_scrapping\\chromedriver.exe',chrome_options=chrome_options)\n",
      "C:\\Users\\Moham\\AppData\\Local\\Temp\\ipykernel_26876\\821770463.py:4: DeprecationWarning: use options instead of chrome_options\n",
      "  driver = webdriver.Chrome('D:\\coding-area\\olx_scrapping\\chromedriver.exe',chrome_options=chrome_options)\n"
     ]
    },
    {
     "name": "stdout",
     "output_type": "stream",
     "text": [
      "0 https://www.olx.com.eg/en/properties/apartments-duplex-for-sale/el-tagamoa/?filter=type_eq_1\n",
      "0 https://www.olx.com.eg/en/properties/apartments-duplex-for-sale/el-tagamoa/?page=2&filter=type_eq_1\n",
      "0 https://www.olx.com.eg//en/ad/%D8%A7%D8%B3%D8%AA%D9%84%D8%A7%D9%85-%D9%81%D9%88%D8%B1%D9%8A-%D9%81%D9%8A-%D8%A7%D9%84%D8%AA%D8%AC%D9%85%D8%B9-%D8%A7%D9%84%D8%AE%D8%A7%D9%85%D8%B3-%D8%B4%D9%82%D9%87-165%D9%85-%D8%A8%D9%85%D9%82%D8%AF%D9%85-250-%D8%A7%D9%84%D9%81-%D8%A8%D8%AC%D9%88%D8%A7%D8%B1-point-90-ID188336173.html\n",
      "1 https://www.olx.com.eg//en/ad/%D8%A7%D8%B3%D8%AA%D8%AB%D9%85%D8%B1-%D9%81%D9%84%D9%88%D8%B3%D9%83-%D9%81%D9%8A-%D8%B4%D9%82%D8%A9-%D9%84%D9%82%D8%B7%D8%A9-%D9%85%D8%AA%D8%B4%D8%B7%D8%A8%D8%A9-137-%D9%85-%D9%85%D9%86-%D8%B3%D9%88%D8%AF%D9%8A%D9%83-%D9%81%D9%8A%D9%84%D9%8A%D8%AA-%D8%A7%D9%84%D8%AA%D8%AC%D9%85%D8%B9-%D9%88%D9%82%D8%B3%D8%B7-%D9%85%D8%B1%D9%8A%D8%AD-ID190200976.html\n"
     ]
    },
    {
     "ename": "TypeError",
     "evalue": "'NoneType' object is not subscriptable",
     "output_type": "error",
     "traceback": [
      "\u001b[1;31m---------------------------------------------------------------------------\u001b[0m",
      "\u001b[1;31mTypeError\u001b[0m                                 Traceback (most recent call last)",
      "\u001b[1;32md:\\coding-area\\olx_scrapping\\V3.ipynb Cell 8'\u001b[0m in \u001b[0;36m<module>\u001b[1;34m\u001b[0m\n\u001b[0;32m     <a href='vscode-notebook-cell:/d%3A/coding-area/olx_scrapping/V3.ipynb#ch0000009?line=27'>28</a>\u001b[0m src\u001b[39m=\u001b[39mgetfunc(link)\n\u001b[0;32m     <a href='vscode-notebook-cell:/d%3A/coding-area/olx_scrapping/V3.ipynb#ch0000009?line=28'>29</a>\u001b[0m \u001b[39mprint\u001b[39m(\u001b[39mlen\u001b[39m(all_data),link)\n\u001b[1;32m---> <a href='vscode-notebook-cell:/d%3A/coding-area/olx_scrapping/V3.ipynb#ch0000009?line=29'>30</a>\u001b[0m \u001b[39mif\u001b[39;00m \u001b[39m'\u001b[39m\u001b[39m/ad/\u001b[39m\u001b[39m'\u001b[39m \u001b[39min\u001b[39;00m link \u001b[39mand\u001b[39;00m link \u001b[39mnot\u001b[39;00m \u001b[39min\u001b[39;00m {x[\u001b[39m'\u001b[39m\u001b[39mlink\u001b[39m\u001b[39m'\u001b[39m] \u001b[39mfor\u001b[39;00m x \u001b[39min\u001b[39;00m all_data}:\n\u001b[0;32m     <a href='vscode-notebook-cell:/d%3A/coding-area/olx_scrapping/V3.ipynb#ch0000009?line=30'>31</a>\u001b[0m     data\u001b[39m=\u001b[39mextract_data(src,link)\n\u001b[0;32m     <a href='vscode-notebook-cell:/d%3A/coding-area/olx_scrapping/V3.ipynb#ch0000009?line=31'>32</a>\u001b[0m     all_data\u001b[39m.\u001b[39mappend(data)\n",
      "\u001b[1;32md:\\coding-area\\olx_scrapping\\V3.ipynb Cell 8'\u001b[0m in \u001b[0;36m<setcomp>\u001b[1;34m(.0)\u001b[0m\n\u001b[0;32m     <a href='vscode-notebook-cell:/d%3A/coding-area/olx_scrapping/V3.ipynb#ch0000009?line=27'>28</a>\u001b[0m src\u001b[39m=\u001b[39mgetfunc(link)\n\u001b[0;32m     <a href='vscode-notebook-cell:/d%3A/coding-area/olx_scrapping/V3.ipynb#ch0000009?line=28'>29</a>\u001b[0m \u001b[39mprint\u001b[39m(\u001b[39mlen\u001b[39m(all_data),link)\n\u001b[1;32m---> <a href='vscode-notebook-cell:/d%3A/coding-area/olx_scrapping/V3.ipynb#ch0000009?line=29'>30</a>\u001b[0m \u001b[39mif\u001b[39;00m \u001b[39m'\u001b[39m\u001b[39m/ad/\u001b[39m\u001b[39m'\u001b[39m \u001b[39min\u001b[39;00m link \u001b[39mand\u001b[39;00m link \u001b[39mnot\u001b[39;00m \u001b[39min\u001b[39;00m {x[\u001b[39m'\u001b[39;49m\u001b[39mlink\u001b[39;49m\u001b[39m'\u001b[39;49m] \u001b[39mfor\u001b[39;00m x \u001b[39min\u001b[39;00m all_data}:\n\u001b[0;32m     <a href='vscode-notebook-cell:/d%3A/coding-area/olx_scrapping/V3.ipynb#ch0000009?line=30'>31</a>\u001b[0m     data\u001b[39m=\u001b[39mextract_data(src,link)\n\u001b[0;32m     <a href='vscode-notebook-cell:/d%3A/coding-area/olx_scrapping/V3.ipynb#ch0000009?line=31'>32</a>\u001b[0m     all_data\u001b[39m.\u001b[39mappend(data)\n",
      "\u001b[1;31mTypeError\u001b[0m: 'NoneType' object is not subscriptable"
     ]
    }
   ],
   "source": [
    "chrome_options = webdriver.ChromeOptions()\n",
    "prefs = {\"profile.managed_default_content_settings.images\": 2}\n",
    "chrome_options.add_experimental_option(\"prefs\", prefs)\n",
    "driver = webdriver.Chrome('D:\\coding-area\\olx_scrapping\\chromedriver.exe',chrome_options=chrome_options)\n",
    "link=\"https://www.olx.com.eg/en/properties/apartments-duplex-for-sale/el-tagamoa/?filter=type_eq_1\"\n",
    "try:\n",
    "    with open(f\"{str(today)}.pkl\",'rb') as dd:\n",
    "        dollar,today_date= pickle.load(dd)\n",
    "except:\n",
    "    dollar,today_date=dollar_extractor(),today\n",
    "if today_date!=today:\n",
    "    dollar,today_date=dollar_extractor(),today\n",
    "try:\n",
    "    with open(f\"statestr{str(today)}.pkl\",'rb') as file:\n",
    "        all_data, stack, last_link = pickle.load(file)\n",
    "except:\n",
    "    all_data, stack, last_link = [], deque(), link\n",
    "\n",
    "stack.appendleft(last_link)\n",
    "\n",
    "while stack:\n",
    "    page_number=False\n",
    "    link=stack.pop()\n",
    "    last_link=link\n",
    "    pa=re.findall('page=[0-9]+', link)\n",
    "    if len(pa)!=0:\n",
    "        page_number=pa=='page=2'  \n",
    "    src=getfunc(link)\n",
    "    print(len(all_data),link)\n",
    "    if '/ad/' in link and link not in {x['link'] for x in all_data}:\n",
    "        data=extract_data(src,link)\n",
    "        all_data.append(data)\n",
    "        with open(f\"statestr{str(today)}.pkl\",'wb') as file:\n",
    "            state = all_data, stack, last_link\n",
    "            pickle.dump(state, file)\n",
    "        sleep(3)\n",
    "    else:\n",
    "        link=next_page(src)\n",
    "        if link and page_number:\n",
    "            i=0\n",
    "            stack.appendleft(links[i])\n",
    "            i+=1\n",
    "        if link:\n",
    "            stack.appendleft(link)\n",
    "        stack.extendleft(ads_list(src))"
   ]
  }
 ],
 "metadata": {
  "interpreter": {
   "hash": "03e8f262078a75390209aa4e3138df5c164683a28d07b004390ca94c5b26ddab"
  },
  "kernelspec": {
   "display_name": "Python 3.10.1 64-bit",
   "language": "python",
   "name": "python3"
  },
  "language_info": {
   "codemirror_mode": {
    "name": "ipython",
    "version": 3
   },
   "file_extension": ".py",
   "mimetype": "text/x-python",
   "name": "python",
   "nbconvert_exporter": "python",
   "pygments_lexer": "ipython3",
   "version": "3.10.1"
  },
  "orig_nbformat": 4
 },
 "nbformat": 4,
 "nbformat_minor": 2
}
